{
 "cells": [
  {
   "cell_type": "code",
   "execution_count": 1,
   "metadata": {},
   "outputs": [
    {
     "name": "stdout",
     "output_type": "stream",
     "text": [
      "stockprice:100\n",
      "strikeprice:100\n",
      "maturityinyears:1\n",
      "riskfreerate(in decimals):0.075\n",
      "volatility(in decimals):0.40\n"
     ]
    },
    {
     "data": {
      "text/plain": [
       "('call:', 19.1562, 'put:', 11.9305)"
      ]
     },
     "execution_count": 1,
     "metadata": {},
     "output_type": "execute_result"
    }
   ],
   "source": [
    "#Black-Scholes Pricing model (Static) on non-divided paying asset:\n",
    "\n",
    "import scipy.stats as st\n",
    "import math\n",
    "\n",
    "s=float(input('stockprice:'))\n",
    "k=float(input('strikeprice:'))\n",
    "t=float(input('maturityinyears:'))\n",
    "r=float(input('riskfreerate(in decimals):'))\n",
    "sigma=float(input('volatility(in decimals):'))\n",
    "\n",
    "\n",
    "def black_scholes(s,k,t,r,sigma):\n",
    "    d1=((math.log(s/k))+((r+0.5*sigma**2)*t))/((sigma*(t**0.5)))\n",
    "    d2=d1-(sigma*t**0.5)\n",
    "    Nd1=st.norm.cdf(d1)\n",
    "    Nd2=st.norm.cdf(d2)\n",
    "    nd1=1-Nd1\n",
    "    nd2=1-Nd2\n",
    "    \n",
    "    call=round((s*Nd1 - k*Nd2*(math.exp(-r*t))),4)\n",
    "    put= round((k*nd2*(math.exp(-r*t))-s*nd1),4)\n",
    "    \n",
    "    return ('call:',call , 'put:',put )\n",
    "    \n",
    "\n",
    "black_scholes(s,k,t,r,sigma)\n",
    "\n",
    "\n",
    "    \n"
   ]
  },
  {
   "cell_type": "code",
   "execution_count": null,
   "metadata": {},
   "outputs": [],
   "source": []
  }
 ],
 "metadata": {
  "kernelspec": {
   "display_name": "Python 3",
   "language": "python",
   "name": "python3"
  },
  "language_info": {
   "codemirror_mode": {
    "name": "ipython",
    "version": 3
   },
   "file_extension": ".py",
   "mimetype": "text/x-python",
   "name": "python",
   "nbconvert_exporter": "python",
   "pygments_lexer": "ipython3",
   "version": "3.7.6"
  }
 },
 "nbformat": 4,
 "nbformat_minor": 4
}
